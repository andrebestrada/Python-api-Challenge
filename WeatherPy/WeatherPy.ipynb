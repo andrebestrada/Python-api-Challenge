{
 "cells": [
  {
   "cell_type": "markdown",
   "metadata": {},
   "source": [
    "# WeatherPy\n",
    "----\n",
    "## Insights and conclusions\n",
    "\n",
    "1. We can see a **strong negative correlation** between latitude and temperature, explaining only for northern hemisphere, the greater the latitude, the lesser temperature will be. In the other hand, we see a **positive correlation** for southern hemisphere were we can explain, the greater the latitude, the greater the temperature.\n",
    "\n",
    "\n",
    "2. Referring to the other variables Humidity, Cloudiness and Wind Speed, **the data does not show any correlation** between these variables and the latitude of the city.\n"
   ]
  },
  {
   "cell_type": "code",
   "execution_count": 2,
   "metadata": {
    "scrolled": true
   },
   "outputs": [],
   "source": [
    "# Dependencies and Setup\n",
    "import matplotlib.pyplot as plt\n",
    "import pandas as pd\n",
    "import numpy as np\n",
    "import requests\n",
    "import time\n",
    "import pprint\n",
    "from scipy.stats import linregress\n",
    "import scipy.stats as st\n",
    "\n",
    "# Import API key\n",
    "from config import weather_api_key\n",
    "\n",
    "# Incorporated citipy to determine city based on latitude and longitude\n",
    "from citipy import citipy\n",
    "\n",
    "# Output File (CSV)\n",
    "output_data_file = \"output_data/cities.csv\"\n",
    "\n",
    "# Range of latitudes and longitudes\n",
    "lat_range = (-90, 90)\n",
    "lng_range = (-180, 180)"
   ]
  },
  {
   "cell_type": "markdown",
   "metadata": {},
   "source": [
    "## Generate Cities List"
   ]
  },
  {
   "cell_type": "code",
   "execution_count": 3,
   "metadata": {},
   "outputs": [
    {
     "name": "stdout",
     "output_type": "stream",
     "text": [
      "633\n"
     ]
    }
   ],
   "source": [
    "# List for holding lat_lngs and cities\n",
    "lat_lngs = []\n",
    "cities = []\n",
    "latitudes=[]\n",
    "longitudes=[]\n",
    "\n",
    "# Create a set of random lat and lng combinations\n",
    "lats = np.random.uniform(lat_range[0], lat_range[1], size=1500)\n",
    "lngs = np.random.uniform(lng_range[0], lng_range[1], size=1500)\n",
    "lat_lngs = zip(lats, lngs)\n",
    "\n",
    "# Identify nearest city for each lat, lng combination\n",
    "for lat_lng in lat_lngs:\n",
    "    city = citipy.nearest_city(lat_lng[0], lat_lng[1]).city_name\n",
    "    \n",
    "    # If the city is unique, then add it to a our cities list\n",
    "    if city not in cities:\n",
    "        cities.append(city)\n",
    "        latitudes.append(lat_lng[0])\n",
    "        longitudes.append(lat_lng[1])\n",
    "        \n",
    "print(len(cities))\n",
    "# cities=cities[:20]\n",
    "# pd.DataFrame(lat_lngs)\n"
   ]
  },
  {
   "cell_type": "markdown",
   "metadata": {},
   "source": [
    "### Perform API Calls\n",
    "* Perform a weather check on each city using a series of successive API calls.\n",
    "* Include a print log of each city as it'sbeing processed (with the city number and city name).\n"
   ]
  },
  {
   "cell_type": "code",
   "execution_count": 11,
   "metadata": {},
   "outputs": [
    {
     "name": "stdout",
     "output_type": "stream",
     "text": [
      "Beginning Data Retrieval     \n",
      "-----------------------------\n",
      "Processing Record 2 of Set 1 | Punta Arenas \n",
      "Processing Record 3 of Set 1 | Buena Vista \n",
      "Processing Record 4 of Set 1 | Saskylakh \n",
      "Processing Record 5 of Set 1 | San Patricio \n",
      "Processing Record 6 of Set 1 | Qaanaaq \n",
      "Processing Record 7 of Set 1 | George Town \n",
      "Processing Record 8 of Set 1 | Rikitea \n",
      "Processing Record 9 of Set 1 | Saint-Philippe \n",
      "Processing Record 10 of Set 1 | Akdepe \n",
      "Processing Record 11 of Set 1 | Carnarvon \n",
      "Processing Record 12 of Set 1 | Saint George \n",
      "Processing Record 13 of Set 1 | Butaritari \n",
      "Processing Record 14 of Set 1 | Poum \n",
      "City not found. Skipping...\n",
      "Processing Record 15 of Set 1 | Iqaluit \n",
      "Processing Record 16 of Set 1 | Illela \n",
      "Processing Record 17 of Set 1 | Busselton \n",
      "Processing Record 18 of Set 1 | Magistral'nyy \n",
      "Processing Record 19 of Set 1 | Sobolevo \n",
      "Processing Record 20 of Set 1 | Mataura \n",
      "Processing Record 21 of Set 1 | Cape Town \n",
      "City not found. Skipping...\n",
      "Processing Record 22 of Set 1 | Albany \n",
      "City not found. Skipping...\n",
      "Processing Record 23 of Set 1 | Yulara \n",
      "Processing Record 24 of Set 1 | Emirdağ \n",
      "Processing Record 25 of Set 1 | Tuktoyaktuk \n",
      "Processing Record 26 of Set 1 | São Lourenço do Sul \n",
      "Processing Record 27 of Set 1 | Caravelas \n",
      "Processing Record 28 of Set 1 | Okha \n",
      "Processing Record 29 of Set 1 | Kaitangata \n",
      "Processing Record 30 of Set 1 | Khovd \n",
      "Processing Record 31 of Set 1 | Marawi \n",
      "Processing Record 32 of Set 1 | Okhotsk \n",
      "Processing Record 33 of Set 1 | Nikolskoye \n",
      "Processing Record 34 of Set 1 | Romanovo \n",
      "Processing Record 35 of Set 1 | Port Hedland \n",
      "Processing Record 36 of Set 1 | Baruun-Urt \n",
      "Processing Record 37 of Set 1 | Hobart \n",
      "Processing Record 38 of Set 1 | Khatanga \n",
      "Processing Record 39 of Set 1 | Gladstone \n",
      "Processing Record 40 of Set 1 | Selfoss \n",
      "Processing Record 41 of Set 1 | Provideniya \n",
      "Processing Record 42 of Set 1 | Avarua \n",
      "Processing Record 43 of Set 1 | Port Hardy \n",
      "Processing Record 44 of Set 1 | Barra do Garças \n",
      "Processing Record 45 of Set 1 | Paris \n",
      "Processing Record 46 of Set 1 | Cuamba \n",
      "Processing Record 47 of Set 1 | Dikson \n",
      "Processing Record 48 of Set 1 | Castro \n",
      "Processing Record 49 of Set 1 | Vaini \n",
      "Processing Record 50 of Set 1 | Diego de Almagro \n",
      "Processing Record 51 of Set 1 | Pangnirtung \n",
      "Processing Record 1 of Set 2 | East London \n",
      "Processing Record 2 of Set 2 | Bluff \n",
      "Processing Record 3 of Set 2 | Aswān \n",
      "Processing Record 4 of Set 2 | Port Elizabeth \n",
      "Processing Record 5 of Set 2 | Riyadh \n",
      "Processing Record 6 of Set 2 | Chara \n",
      "Processing Record 7 of Set 2 | Ushuaia \n",
      "Processing Record 8 of Set 2 | Bodden Town \n",
      "Processing Record 9 of Set 2 | Mar del Plata \n",
      "Processing Record 10 of Set 2 | Barrow \n",
      "Processing Record 11 of Set 2 | Verkhnyaya Toyma \n",
      "Processing Record 12 of Set 2 | Voh \n",
      "Processing Record 13 of Set 2 | Port Alfred \n",
      "Processing Record 14 of Set 2 | Storozhevaya \n",
      "Processing Record 15 of Set 2 | Vila Franca do Campo \n",
      "Processing Record 16 of Set 2 | Sioux Lookout \n",
      "Processing Record 17 of Set 2 | Bambous Virieux \n",
      "Processing Record 18 of Set 2 | Springfield \n",
      "Processing Record 19 of Set 2 | Saint Paul Harbor \n",
      "Processing Record 20 of Set 2 | Hermanus \n",
      "Processing Record 21 of Set 2 | Khasan \n",
      "Processing Record 22 of Set 2 | Semey \n",
      "Processing Record 23 of Set 2 | Skellefteå \n",
      "City not found. Skipping...\n",
      "City not found. Skipping...\n",
      "Processing Record 24 of Set 2 | Norman Wells \n",
      "Processing Record 25 of Set 2 | Pevek \n",
      "Processing Record 26 of Set 2 | Bengkulu \n",
      "Processing Record 27 of Set 2 | Yangi Marg`ilon \n",
      "Processing Record 28 of Set 2 | Polovinnoye \n",
      "Processing Record 29 of Set 2 | Tuatapere \n",
      "Processing Record 30 of Set 2 | Prince Rupert \n",
      "Processing Record 31 of Set 2 | Banyo \n",
      "Processing Record 32 of Set 2 | La Ronge \n",
      "Processing Record 33 of Set 2 | Fonte Boa \n",
      "Processing Record 34 of Set 2 | Fortuna \n",
      "City not found. Skipping...\n",
      "Processing Record 35 of Set 2 | Grigiškės \n",
      "City not found. Skipping...\n",
      "Processing Record 36 of Set 2 | New Norfolk \n",
      "Processing Record 37 of Set 2 | Clyde River \n",
      "Processing Record 38 of Set 2 | Central Point \n",
      "Processing Record 39 of Set 2 | Fairbanks \n",
      "Processing Record 40 of Set 2 | Kruisfontein \n",
      "Processing Record 41 of Set 2 | Bac Lieu \n",
      "Processing Record 42 of Set 2 | Cayenne \n",
      "Processing Record 43 of Set 2 | Sitka \n",
      "Processing Record 44 of Set 2 | Kapaa \n",
      "Processing Record 45 of Set 2 | Lata \n",
      "Processing Record 46 of Set 2 | Ambon City \n",
      "Processing Record 47 of Set 2 | Necochea \n",
      "City not found. Skipping...\n",
      "Processing Record 48 of Set 2 | Brigantine \n",
      "Processing Record 49 of Set 2 | Katsuura \n",
      "Processing Record 50 of Set 2 | Hasaki \n",
      "Processing Record 51 of Set 2 | Torbay \n",
      "Processing Record 1 of Set 3 | Bandarbeyla \n",
      "Processing Record 2 of Set 3 | El Alto \n",
      "Processing Record 3 of Set 3 | Umm Kaddadah \n",
      "Processing Record 4 of Set 3 | Pallisa \n",
      "Processing Record 5 of Set 3 | Mahébourg \n",
      "Processing Record 6 of Set 3 | Esperance \n",
      "Processing Record 7 of Set 3 | Hithadhoo \n",
      "Processing Record 8 of Set 3 | Kondopoga \n",
      "Processing Record 9 of Set 3 | Novolabinskaya \n",
      "City not found. Skipping...\n",
      "Processing Record 10 of Set 3 | Purpe \n",
      "Processing Record 11 of Set 3 | Tiksi \n",
      "Processing Record 12 of Set 3 | Upernavik \n",
      "Processing Record 13 of Set 3 | Puqi \n",
      "Processing Record 14 of Set 3 | Santa Isabel Rio Negro \n",
      "Processing Record 15 of Set 3 | Dublin \n",
      "Processing Record 16 of Set 3 | Province of Mantua \n",
      "Processing Record 17 of Set 3 | Tilichiki \n",
      "Processing Record 18 of Set 3 | Bethel \n",
      "City not found. Skipping...\n",
      "Processing Record 19 of Set 3 | Hilo \n",
      "Processing Record 20 of Set 3 | Dhidhdhoo \n",
      "City not found. Skipping...\n",
      "Processing Record 21 of Set 3 | Paamiut \n",
      "Processing Record 22 of Set 3 | Cockburn Town \n",
      "Processing Record 23 of Set 3 | Kita \n",
      "Processing Record 24 of Set 3 | Pisco \n",
      "Processing Record 25 of Set 3 | Nantucket \n",
      "Processing Record 26 of Set 3 | Sladkovo \n",
      "Processing Record 27 of Set 3 | Lüderitz \n",
      "Processing Record 28 of Set 3 | Tshikapa \n",
      "Processing Record 29 of Set 3 | Saint Anthony \n",
      "Processing Record 30 of Set 3 | Yellowknife \n",
      "Processing Record 31 of Set 3 | Namatanai \n",
      "Processing Record 32 of Set 3 | Puerto Ayora \n",
      "Processing Record 33 of Set 3 | Aklavik \n",
      "City not found. Skipping...\n",
      "Processing Record 34 of Set 3 | Tasiilaq \n",
      "Processing Record 35 of Set 3 | Konstantinovka \n",
      "City not found. Skipping...\n",
      "Processing Record 36 of Set 3 | Bredasdorp \n",
      "Processing Record 37 of Set 3 | Saldanha \n",
      "Processing Record 38 of Set 3 | Usman' \n",
      "Processing Record 39 of Set 3 | Kedrovyy \n",
      "Processing Record 40 of Set 3 | Linhares \n",
      "City not found. Skipping...\n",
      "Processing Record 41 of Set 3 | Thompson \n",
      "Processing Record 42 of Set 3 | Pokhara \n",
      "Processing Record 43 of Set 3 | Touros \n",
      "Processing Record 44 of Set 3 | Berlevåg \n",
      "Processing Record 45 of Set 3 | Vieques \n",
      "Processing Record 46 of Set 3 | Westport \n",
      "Processing Record 47 of Set 3 | Likasi \n",
      "Processing Record 48 of Set 3 | Kropotkin \n",
      "Processing Record 49 of Set 3 | Kyren \n",
      "City not found. Skipping...\n",
      "Processing Record 50 of Set 3 | Poso \n",
      "Processing Record 51 of Set 3 | Ramsar \n",
      "Processing Record 1 of Set 4 | Anadyr \n",
      "Processing Record 2 of Set 4 | Ilulissat \n",
      "Processing Record 3 of Set 4 | Saint-Pierre \n",
      "Processing Record 4 of Set 4 | Banda Aceh \n",
      "Processing Record 5 of Set 4 | Alizai \n",
      "Processing Record 6 of Set 4 | Formosa \n",
      "Processing Record 7 of Set 4 | Udachny \n",
      "Processing Record 8 of Set 4 | Puerto Ayacucho \n",
      "Processing Record 9 of Set 4 | Maceió \n",
      "Processing Record 10 of Set 4 | Mtsensk \n",
      "Processing Record 11 of Set 4 | Linfen \n",
      "Processing Record 12 of Set 4 | Elizabeth City \n",
      "Processing Record 13 of Set 4 | Flin Flon \n",
      "Processing Record 14 of Set 4 | Catuday \n",
      "Processing Record 15 of Set 4 | Makakilo City \n",
      "Processing Record 16 of Set 4 | Faanui \n",
      "Processing Record 17 of Set 4 | Barcelona \n",
      "Processing Record 18 of Set 4 | Mehamn \n",
      "Processing Record 19 of Set 4 | Nouadhibou \n",
      "Processing Record 20 of Set 4 | São Filipe \n",
      "Processing Record 21 of Set 4 | Uauá \n",
      "Processing Record 22 of Set 4 | Nome \n",
      "Processing Record 23 of Set 4 | Chokurdakh \n",
      "Processing Record 24 of Set 4 | Severo-Kuril'sk \n",
      "Processing Record 25 of Set 4 | Fort Nelson \n",
      "Processing Record 26 of Set 4 | Laguna \n",
      "Processing Record 27 of Set 4 | Buraidah \n",
      "Processing Record 28 of Set 4 | Måløy \n",
      "Processing Record 29 of Set 4 | Constitución \n"
     ]
    },
    {
     "name": "stdout",
     "output_type": "stream",
     "text": [
      "Processing Record 30 of Set 4 | Karoi \n",
      "Processing Record 31 of Set 4 | Palmer \n",
      "Processing Record 32 of Set 4 | Xam Nua \n",
      "Processing Record 33 of Set 4 | Baní \n",
      "Processing Record 34 of Set 4 | San Luis \n",
      "Processing Record 35 of Set 4 | Mmabatho \n",
      "Processing Record 36 of Set 4 | Oytal \n",
      "Processing Record 37 of Set 4 | Burgersdorp \n",
      "Processing Record 38 of Set 4 | Tura \n",
      "Processing Record 39 of Set 4 | Kasangulu \n",
      "Processing Record 40 of Set 4 | Kahului \n",
      "City not found. Skipping...\n",
      "Processing Record 41 of Set 4 | Atuona \n",
      "Processing Record 42 of Set 4 | Muhafazat Lahij \n",
      "Processing Record 43 of Set 4 | Ponta do Sol \n",
      "Processing Record 44 of Set 4 | Cabo San Lucas \n",
      "Processing Record 45 of Set 4 | Tazovsky \n",
      "Processing Record 46 of Set 4 | Muriti \n",
      "Processing Record 47 of Set 4 | Yuncheng \n",
      "Processing Record 48 of Set 4 | Beaufort \n",
      "Processing Record 49 of Set 4 | Poplar Bluff \n",
      "Processing Record 50 of Set 4 | Maniitsoq \n",
      "Processing Record 51 of Set 4 | Ceglie Messapica \n",
      "Processing Record 1 of Set 5 | Hong Kong \n",
      "Processing Record 2 of Set 5 | Naze \n",
      "Processing Record 3 of Set 5 | Jamestown \n",
      "Processing Record 4 of Set 5 | Monaghan \n",
      "Processing Record 5 of Set 5 | Khudumelapye \n",
      "Processing Record 6 of Set 5 | Vardø \n",
      "Processing Record 7 of Set 5 | Kostryzhivka \n",
      "Processing Record 8 of Set 5 | Safi \n",
      "Processing Record 9 of Set 5 | Saint-Augustin \n",
      "Processing Record 10 of Set 5 | Phan Thiet \n",
      "Processing Record 11 of Set 5 | Deputatsky \n",
      "Processing Record 12 of Set 5 | Shingū \n",
      "Processing Record 13 of Set 5 | Huamachuco \n",
      "City not found. Skipping...\n",
      "Processing Record 14 of Set 5 | Comodoro Rivadavia \n",
      "Processing Record 15 of Set 5 | Kutum \n",
      "Processing Record 16 of Set 5 | Havre-St-Pierre \n",
      "Processing Record 17 of Set 5 | Kruszwica \n",
      "Processing Record 18 of Set 5 | Kavieng \n",
      "Processing Record 19 of Set 5 | South Kazakhstan Region \n",
      "Processing Record 20 of Set 5 | Mujiayingzi \n",
      "Processing Record 21 of Set 5 | Port-Gentil \n",
      "City not found. Skipping...\n",
      "Processing Record 22 of Set 5 | Muisne \n",
      "Processing Record 23 of Set 5 | Murray Bridge \n",
      "Processing Record 24 of Set 5 | Vestmannaeyjar \n",
      "Processing Record 25 of Set 5 | Mahibadhoo \n",
      "Processing Record 26 of Set 5 | Bashmakovo \n",
      "Processing Record 27 of Set 5 | Xiangxiang \n",
      "Processing Record 28 of Set 5 | São José da Coroa Grande \n",
      "Processing Record 29 of Set 5 | San Cristobal \n",
      "Processing Record 30 of Set 5 | Boyolangu \n",
      "Processing Record 31 of Set 5 | Sibolga \n",
      "Processing Record 32 of Set 5 | Ginir \n",
      "Processing Record 33 of Set 5 | Zhuhai \n",
      "Processing Record 34 of Set 5 | Sebastian \n",
      "Processing Record 35 of Set 5 | Narasannapeta \n",
      "Processing Record 36 of Set 5 | Camacha \n",
      "Processing Record 37 of Set 5 | Nyurba \n",
      "Processing Record 38 of Set 5 | Steenbergen \n",
      "Processing Record 39 of Set 5 | Vaitape \n",
      "Processing Record 40 of Set 5 | Nārsingi \n",
      "Processing Record 41 of Set 5 | Arraial do Cabo \n",
      "Processing Record 42 of Set 5 | Dzerzhinsk \n",
      "Processing Record 43 of Set 5 | Athens \n",
      "Processing Record 44 of Set 5 | Cuenca \n",
      "Processing Record 45 of Set 5 | Odder \n",
      "Processing Record 46 of Set 5 | Neuquén \n",
      "Processing Record 47 of Set 5 | Chui \n",
      "Processing Record 48 of Set 5 | Balkanabat \n",
      "Processing Record 49 of Set 5 | Dakar \n",
      "Processing Record 50 of Set 5 | Moose Factory \n",
      "Processing Record 51 of Set 5 | Malbork \n",
      "Processing Record 1 of Set 6 | Usinsk \n",
      "Processing Record 2 of Set 6 | Altar \n",
      "Processing Record 3 of Set 6 | Samarai \n",
      "Processing Record 4 of Set 6 | Mindelo \n",
      "Processing Record 5 of Set 6 | Aksarka \n",
      "Processing Record 6 of Set 6 | Santa Cruz de la Sierra \n",
      "Processing Record 7 of Set 6 | Beringovskiy \n",
      "Processing Record 8 of Set 6 | Aleysk \n",
      "Processing Record 9 of Set 6 | Kieta \n",
      "City not found. Skipping...\n",
      "Processing Record 10 of Set 6 | Sittwe \n",
      "Processing Record 11 of Set 6 | São Gonçalo do Amarante \n",
      "Processing Record 12 of Set 6 | Letterkenny \n",
      "Processing Record 13 of Set 6 | Los Llanos de Aridane \n",
      "Processing Record 14 of Set 6 | Gao \n",
      "Processing Record 15 of Set 6 | Petropavlovsk-Kamchatskiy \n",
      "Processing Record 16 of Set 6 | Imeni Poliny Osipenko \n",
      "Processing Record 17 of Set 6 | Lebu \n",
      "Processing Record 18 of Set 6 | Honiara \n",
      "Processing Record 19 of Set 6 | Paranaíba \n",
      "City not found. Skipping...\n",
      "Processing Record 20 of Set 6 | Melo \n",
      "City not found. Skipping...\n",
      "City not found. Skipping...\n",
      "Processing Record 21 of Set 6 | Jiutai \n",
      "Processing Record 22 of Set 6 | Antofagasta \n",
      "Processing Record 23 of Set 6 | Flinders \n",
      "Processing Record 24 of Set 6 | Charters Towers \n",
      "City not found. Skipping...\n",
      "Processing Record 25 of Set 6 | Kargasok \n",
      "Processing Record 26 of Set 6 | Ugoofaaru \n",
      "Processing Record 27 of Set 6 | Gemeente Zaanstad \n",
      "Processing Record 28 of Set 6 | Rovnoye \n",
      "Processing Record 29 of Set 6 | Asău \n",
      "Processing Record 30 of Set 6 | Dayong \n",
      "Processing Record 31 of Set 6 | Ribeira Grande \n",
      "Processing Record 32 of Set 6 | Hokitika \n",
      "Processing Record 33 of Set 6 | Mossamedes \n",
      "Processing Record 34 of Set 6 | Oyama \n",
      "Processing Record 35 of Set 6 | Bend \n",
      "Processing Record 36 of Set 6 | Padang \n",
      "Processing Record 37 of Set 6 | Grand Gaube \n",
      "Processing Record 38 of Set 6 | Vao \n",
      "Processing Record 39 of Set 6 | Geraldton \n",
      "Processing Record 40 of Set 6 | La Mira \n",
      "Processing Record 41 of Set 6 | Kamen'-na-Obi \n",
      "Processing Record 42 of Set 6 | Sandpoint \n",
      "Processing Record 43 of Set 6 | Airai \n",
      "City not found. Skipping...\n",
      "City not found. Skipping...\n",
      "Processing Record 44 of Set 6 | Merauke \n",
      "Processing Record 45 of Set 6 | Manama \n",
      "Processing Record 46 of Set 6 | Terney \n",
      "Processing Record 47 of Set 6 | Kulhudhuffushi \n",
      "Processing Record 48 of Set 6 | Kuala Terengganu \n",
      "Processing Record 49 of Set 6 | Narsaq \n",
      "Processing Record 50 of Set 6 | Kamenka \n",
      "Processing Record 51 of Set 6 | Placer \n",
      "Processing Record 1 of Set 7 | Misratah \n",
      "Processing Record 2 of Set 7 | Ouro Sogui \n",
      "City not found. Skipping...\n",
      "Processing Record 3 of Set 7 | Porto-Novo \n",
      "Processing Record 4 of Set 7 | Nelson Bay \n",
      "Processing Record 5 of Set 7 | Nizhniy Odes \n",
      "Processing Record 6 of Set 7 | Rosetta \n",
      "Processing Record 7 of Set 7 | Baykit \n",
      "City not found. Skipping...\n",
      "Processing Record 8 of Set 7 | Laas \n",
      "Processing Record 9 of Set 7 | Shimoda \n",
      "Processing Record 10 of Set 7 | Chiredzi \n",
      "Processing Record 11 of Set 7 | Khuzhir \n",
      "Processing Record 12 of Set 7 | Nālūt \n",
      "Processing Record 13 of Set 7 | Tomatlán \n",
      "Processing Record 14 of Set 7 | Ayan \n",
      "Processing Record 15 of Set 7 | Bruntál \n",
      "Processing Record 16 of Set 7 | São João da Barra \n",
      "Processing Record 17 of Set 7 | Eureka \n",
      "Processing Record 18 of Set 7 | Naryan-Mar \n",
      "Processing Record 19 of Set 7 | Ulaangom \n",
      "Processing Record 20 of Set 7 | Sawākin \n",
      "Processing Record 21 of Set 7 | Chincha Alta \n",
      "Processing Record 22 of Set 7 | Coahuayana Viejo \n",
      "Processing Record 23 of Set 7 | Zhangye \n",
      "Processing Record 24 of Set 7 | Heishan \n",
      "Processing Record 25 of Set 7 | Port Macquarie \n",
      "City not found. Skipping...\n",
      "Processing Record 26 of Set 7 | Bubaque \n",
      "Processing Record 27 of Set 7 | Pacifica \n",
      "Processing Record 28 of Set 7 | Nanortalik \n",
      "Processing Record 29 of Set 7 | Isangel \n",
      "Processing Record 30 of Set 7 | Joshīmath \n",
      "Processing Record 31 of Set 7 | Srednekolymsk \n",
      "Processing Record 32 of Set 7 | Mandalgovi \n",
      "Processing Record 33 of Set 7 | Bonavista \n",
      "Processing Record 34 of Set 7 | Bielsk Podlaski \n",
      "Processing Record 35 of Set 7 | Morropón \n",
      "Processing Record 36 of Set 7 | Amga \n",
      "Processing Record 37 of Set 7 | Kununurra \n",
      "Processing Record 38 of Set 7 | Karaman Province \n",
      "Processing Record 39 of Set 7 | Pahrump \n",
      "Processing Record 40 of Set 7 | Ixtapa \n",
      "Processing Record 41 of Set 7 | Lerwick \n",
      "Processing Record 42 of Set 7 | Napāsar \n",
      "Processing Record 43 of Set 7 | Sokoni \n",
      "City not found. Skipping...\n",
      "Processing Record 44 of Set 7 | Calderitas \n",
      "Processing Record 45 of Set 7 | Evensk \n",
      "City not found. Skipping...\n",
      "Processing Record 46 of Set 7 | San Andrés del Rabanedo \n",
      "Processing Record 47 of Set 7 | Teverya \n",
      "City not found. Skipping...\n",
      "City not found. Skipping...\n",
      "Processing Record 48 of Set 7 | Karasjok \n",
      "Processing Record 49 of Set 7 | Tual \n",
      "Processing Record 50 of Set 7 | Lagoa \n",
      "Processing Record 51 of Set 7 | Inhambane \n",
      "Processing Record 1 of Set 8 | Dunedin \n",
      "Processing Record 2 of Set 8 | Mishan \n",
      "Processing Record 3 of Set 8 | Imeni Zhelyabova \n",
      "Processing Record 4 of Set 8 | Auka \n",
      "Processing Record 5 of Set 8 | Jalu \n"
     ]
    },
    {
     "name": "stdout",
     "output_type": "stream",
     "text": [
      "Processing Record 6 of Set 8 | Palu \n",
      "Processing Record 7 of Set 8 | Médéa \n",
      "Processing Record 8 of Set 8 | Valparaíso \n",
      "Processing Record 9 of Set 8 | Yook \n",
      "Processing Record 10 of Set 8 | Cherskiy \n",
      "Processing Record 11 of Set 8 | Hatfield \n",
      "Processing Record 12 of Set 8 | Daru \n",
      "Processing Record 13 of Set 8 | Kavaratti \n",
      "Processing Record 14 of Set 8 | Puerto Escondido \n",
      "Processing Record 15 of Set 8 | Hamilton \n",
      "Processing Record 16 of Set 8 | Simpang \n",
      "Processing Record 17 of Set 8 | Morehead \n",
      "Processing Record 18 of Set 8 | Dubrovka \n",
      "Processing Record 19 of Set 8 | Panama City \n",
      "Processing Record 20 of Set 8 | Gwadar \n",
      "Processing Record 21 of Set 8 | Ikongo \n",
      "Processing Record 22 of Set 8 | Kholodnyy \n",
      "Processing Record 23 of Set 8 | Omsukchan \n",
      "Processing Record 24 of Set 8 | Glace Bay \n",
      "Processing Record 25 of Set 8 | Tabou \n",
      "Processing Record 26 of Set 8 | Hambantota \n",
      "Processing Record 27 of Set 8 | Vanavara \n",
      "Processing Record 28 of Set 8 | Salalah \n",
      "City not found. Skipping...\n",
      "Processing Record 29 of Set 8 | Ankang \n",
      "Processing Record 30 of Set 8 | Auki \n",
      "Processing Record 31 of Set 8 | Našice \n",
      "Processing Record 32 of Set 8 | Chernyshevskiy \n",
      "Processing Record 33 of Set 8 | Longyearbyen \n",
      "City not found. Skipping...\n",
      "Processing Record 34 of Set 8 | Sisimiut \n",
      "Processing Record 35 of Set 8 | Dingle \n",
      "Processing Record 36 of Set 8 | Malindi \n",
      "Processing Record 37 of Set 8 | Zaria \n",
      "Processing Record 38 of Set 8 | Sept-Îles \n",
      "Processing Record 39 of Set 8 | Al Bardīyah \n",
      "Processing Record 40 of Set 8 | Salta \n",
      "City not found. Skipping...\n",
      "Processing Record 41 of Set 8 | Ampanihy \n",
      "Processing Record 42 of Set 8 | Kloulklubed \n",
      "Processing Record 43 of Set 8 | Yerbogachën \n",
      "Processing Record 44 of Set 8 | Bahía de Caráquez \n",
      "City not found. Skipping...\n",
      "Processing Record 45 of Set 8 | Borogontsy \n",
      "City not found. Skipping...\n",
      "Processing Record 46 of Set 8 | Makkah al Mukarramah \n",
      "Processing Record 47 of Set 8 | Pacific Grove \n",
      "Processing Record 48 of Set 8 | Fuxin \n",
      "City not found. Skipping...\n",
      "Processing Record 49 of Set 8 | Kalmunai \n",
      "Processing Record 50 of Set 8 | Cidreira \n",
      "Processing Record 51 of Set 8 | Numan \n",
      "Processing Record 1 of Set 9 | La Peca \n",
      "Processing Record 2 of Set 9 | Skjervøy \n",
      "Processing Record 3 of Set 9 | Half Moon Bay \n",
      "Processing Record 4 of Set 9 | Pinega \n",
      "Processing Record 5 of Set 9 | Mirpur Sakro \n",
      "Processing Record 6 of Set 9 | Kiunga \n",
      "City not found. Skipping...\n",
      "Processing Record 7 of Set 9 | Kurumkan \n",
      "Processing Record 8 of Set 9 | Khomutovo \n",
      "Processing Record 9 of Set 9 | Hai’an \n",
      "Processing Record 10 of Set 9 | Klaksvík \n",
      "Processing Record 11 of Set 9 | Ust-Maya \n",
      "Processing Record 12 of Set 9 | Souillac \n",
      "Processing Record 13 of Set 9 | Svetlaya \n",
      "Processing Record 14 of Set 9 | Lompoc \n",
      "City not found. Skipping...\n",
      "Processing Record 15 of Set 9 | Ouadda \n",
      "Processing Record 16 of Set 9 | Rio Grande \n",
      "Processing Record 17 of Set 9 | Khorinsk \n",
      "Processing Record 18 of Set 9 | Avilés \n",
      "Processing Record 19 of Set 9 | Alekseyevsk \n",
      "Processing Record 20 of Set 9 | Zilair \n",
      "Processing Record 21 of Set 9 | Solano \n",
      "Processing Record 22 of Set 9 | Baihar \n",
      "Processing Record 23 of Set 9 | Chancay \n",
      "Processing Record 24 of Set 9 | Southbridge \n",
      "Processing Record 25 of Set 9 | Ardakān \n",
      "Processing Record 26 of Set 9 | ‘Āhuimanu \n",
      "Processing Record 27 of Set 9 | San Carlos \n",
      "City not found. Skipping...\n",
      "Processing Record 28 of Set 9 | Zhangjiakou \n",
      "Processing Record 29 of Set 9 | Portland \n",
      "Processing Record 30 of Set 9 | Alihe \n",
      "Processing Record 31 of Set 9 | Ambulu \n",
      "City not found. Skipping...\n",
      "Processing Record 32 of Set 9 | Hays \n",
      "Processing Record 33 of Set 9 | Qui Nhon \n",
      "Processing Record 34 of Set 9 | Kīhei \n",
      "Processing Record 35 of Set 9 | Scarborough \n",
      "Processing Record 36 of Set 9 | Piedra Gorda \n",
      "City not found. Skipping...\n",
      "Processing Record 37 of Set 9 | Dunmore East \n",
      "Processing Record 38 of Set 9 | Mount Gambier \n",
      "Processing Record 39 of Set 9 | Nhulunbuy \n",
      "Processing Record 40 of Set 9 | Bar Harbor \n",
      "City not found. Skipping...\n",
      "City not found. Skipping...\n",
      "Processing Record 41 of Set 9 | Lorengau \n",
      "Processing Record 42 of Set 9 | Gusau \n",
      "Processing Record 43 of Set 9 | Gazimurskiy Zavod \n",
      "Processing Record 44 of Set 9 | Cap Malheureux \n",
      "Processing Record 45 of Set 9 | Pangkalanbuun \n",
      "Processing Record 46 of Set 9 | Santa Marta de Tormes \n",
      "Processing Record 47 of Set 9 | Kharp \n",
      "Processing Record 48 of Set 9 | Ancud \n",
      "Processing Record 49 of Set 9 | Hargeisa \n",
      "Processing Record 50 of Set 9 | Pangoa \n",
      "Processing Record 51 of Set 9 | Marrakesh \n",
      "Processing Record 1 of Set 10 | Iquique \n",
      "Processing Record 2 of Set 10 | Mazara del Vallo \n",
      "Processing Record 3 of Set 10 | Córdoba \n",
      "Processing Record 4 of Set 10 | Lawrence \n",
      "Processing Record 5 of Set 10 | Brazzaville \n",
      "Processing Record 6 of Set 10 | Luangwa \n",
      "Processing Record 7 of Set 10 | Tula \n",
      "Processing Record 8 of Set 10 | Salinas \n",
      "Processing Record 9 of Set 10 | Vila Velha \n",
      "Processing Record 10 of Set 10 | Alakurtti \n",
      "Processing Record 11 of Set 10 | Mackay \n",
      "Processing Record 12 of Set 10 | Jumla \n",
      "Processing Record 13 of Set 10 | Tekeli \n",
      "Processing Record 14 of Set 10 | Itarema \n",
      "Processing Record 15 of Set 10 | Havøysund \n",
      "City not found. Skipping...\n",
      "Processing Record 16 of Set 10 | Itapetininga \n",
      "Processing Record 17 of Set 10 | Saint-Louis \n",
      "Processing Record 18 of Set 10 | Vila \n",
      "Processing Record 19 of Set 10 | Gizo Government Station \n",
      "Processing Record 20 of Set 10 | Syracuse \n",
      "Processing Record 21 of Set 10 | Pierre \n",
      "Processing Record 22 of Set 10 | Zacualpan \n",
      "Processing Record 23 of Set 10 | Bluefields \n",
      "Processing Record 24 of Set 10 | Leningradskiy \n",
      "Processing Record 25 of Set 10 | Faaborg \n",
      "Processing Record 26 of Set 10 | Kiryat Gat \n",
      "Processing Record 27 of Set 10 | Penzance \n",
      "Processing Record 28 of Set 10 | Cuiluan \n",
      "Processing Record 29 of Set 10 | Antigonish \n",
      "Processing Record 30 of Set 10 | Guadalupe y Calvo \n",
      "Processing Record 31 of Set 10 | Sturgis \n",
      "Processing Record 32 of Set 10 | Pascagoula \n",
      "Processing Record 33 of Set 10 | Foligno \n",
      "Processing Record 34 of Set 10 | Bisira \n",
      "Processing Record 35 of Set 10 | Alta Floresta \n",
      "Processing Record 36 of Set 10 | Koslan \n",
      "Processing Record 37 of Set 10 | Zyryanskoye \n",
      "Processing Record 38 of Set 10 | Datia \n",
      "Processing Record 39 of Set 10 | Faya \n",
      "Processing Record 40 of Set 10 | Kautokeino \n",
      "City not found. Skipping...\n",
      "Processing Record 41 of Set 10 | Batagay \n",
      "Processing Record 42 of Set 10 | Oranjemund \n",
      "Processing Record 43 of Set 10 | Bocanda \n",
      "Processing Record 44 of Set 10 | Atasū \n",
      "Processing Record 45 of Set 10 | Monte Alegre \n",
      "Processing Record 46 of Set 10 | Coyhaique \n",
      "Processing Record 47 of Set 10 | Bermejo \n",
      "Processing Record 48 of Set 10 | Arrondissement de Dole \n",
      "Processing Record 49 of Set 10 | São Félix do Xingu \n",
      "Processing Record 50 of Set 10 | Buala \n",
      "Processing Record 51 of Set 10 | Victoria Falls \n",
      "Processing Record 1 of Set 11 | Samagaltay \n",
      "Processing Record 2 of Set 11 | Ormara \n",
      "Processing Record 3 of Set 11 | Mina \n",
      "Processing Record 4 of Set 11 | Hashtrūd \n",
      "City not found. Skipping...\n",
      "Processing Record 5 of Set 11 | Arrondissement du Havre \n",
      "Processing Record 6 of Set 11 | Igaci \n",
      "Processing Record 7 of Set 11 | Grand-Santi \n",
      "Processing Record 8 of Set 11 | Ulladulla \n",
      "Processing Record 9 of Set 11 | Aasiaat \n",
      "City not found. Skipping...\n",
      "Processing Record 10 of Set 11 | Dongying \n",
      "Processing Record 11 of Set 11 | Bereket \n",
      "Processing Record 12 of Set 11 | Redondela \n",
      "Processing Record 13 of Set 11 | Sindor \n",
      "Processing Record 14 of Set 11 | Makat \n",
      "City not found. Skipping...\n",
      "City not found. Skipping...\n",
      "Processing Record 15 of Set 11 | Rome \n",
      "Processing Record 16 of Set 11 | Boulsa \n",
      "Processing Record 17 of Set 11 | Batemans Bay \n",
      "Processing Record 18 of Set 11 | Kromy \n",
      "Processing Record 19 of Set 11 | Rørvik \n",
      "Processing Record 20 of Set 11 | Mount Isa \n",
      "Processing Record 21 of Set 11 | Sharjah city \n",
      "Processing Record 22 of Set 11 | Pilkhuwa \n",
      "Processing Record 23 of Set 11 | Ust'-Omchug \n",
      "Processing Record 24 of Set 11 | Richards Bay \n",
      "Processing Record 25 of Set 11 | Palau \n",
      "Processing Record 26 of Set 11 | Krasnosel'kup \n",
      "Processing Record 27 of Set 11 | Tashla \n",
      "Processing Record 28 of Set 11 | San Quintín \n",
      "Processing Record 29 of Set 11 | Takoradze \n",
      "Processing Record 30 of Set 11 | Ginda \n",
      "Processing Record 31 of Set 11 | Wamba \n"
     ]
    },
    {
     "name": "stdout",
     "output_type": "stream",
     "text": [
      "Processing Record 32 of Set 11 | Rio Claro \n",
      "Processing Record 33 of Set 11 | Zgierz \n",
      "Processing Record 34 of Set 11 | Moyale \n",
      "Processing Record 35 of Set 11 | Innisfail \n",
      "Processing Record 36 of Set 11 | Guerrero Negro \n",
      "Processing Record 37 of Set 11 | Byron Bay \n",
      "Processing Record 38 of Set 11 | Talnakh \n",
      "Processing Record 39 of Set 11 | Kushiro \n",
      "Processing Record 40 of Set 11 | Yar-Sale \n",
      "Processing Record 41 of Set 11 | Keffi \n",
      "Processing Record 42 of Set 11 | Itoman \n",
      "Processing Record 43 of Set 11 | Salinópolis \n",
      "Processing Record 44 of Set 11 | Merke \n",
      "Processing Record 45 of Set 11 | Oktyabr'skoye \n",
      "City not found. Skipping...\n",
      "Processing Record 46 of Set 11 | Okato \n",
      "Processing Record 47 of Set 11 | Manono \n",
      "Processing Record 48 of Set 11 | Davila \n",
      "Processing Record 49 of Set 11 | Iglesias \n",
      "Processing Record 50 of Set 11 | Guanare \n",
      "Processing Record 51 of Set 11 | Laredo \n",
      "Processing Record 1 of Set 12 | San Jose \n",
      "Processing Record 2 of Set 12 | Burnie \n",
      "Processing Record 3 of Set 12 | Biltine \n",
      "Processing Record 4 of Set 12 | Alice Springs \n",
      "Processing Record 5 of Set 12 | Margate \n",
      "Processing Record 6 of Set 12 | Berbérati \n",
      "Processing Record 7 of Set 12 | Mirny \n",
      "Processing Record 8 of Set 12 | Khani \n",
      "Processing Record 9 of Set 12 | Ambilobe \n",
      "Processing Record 10 of Set 12 | Esim \n",
      "Processing Record 11 of Set 12 | Praia \n",
      "City not found. Skipping...\n",
      "Processing Record 12 of Set 12 | Avera \n",
      "City not found. Skipping...\n",
      "Processing Record 13 of Set 12 | San Ramon \n",
      "Processing Record 14 of Set 12 | Marabu \n",
      "Processing Record 15 of Set 12 | Taksimo \n",
      "Processing Record 16 of Set 12 | College Place \n",
      "Processing Record 17 of Set 12 | Mapiripán \n",
      "Processing Record 18 of Set 12 | Siavonga \n",
      "Processing Record 19 of Set 12 | Beidao \n",
      "-----------------------------\n",
      "Data Retrieval Complete      \n",
      "-----------------------------\n"
     ]
    }
   ],
   "source": [
    "city_df=[]\n",
    "\n",
    "index=1\n",
    "counter=1\n",
    "print('Beginning Data Retrieval     ')\n",
    "print('-----------------------------')\n",
    "\n",
    "for city in cities:\n",
    "\n",
    "    url=f'http://api.openweathermap.org/data/2.5/weather?q={city}&appid={weather_api_key}&units=imperial'\n",
    "    response=requests.get(url).json()\n",
    "\n",
    "    if index>50: \n",
    "        counter+=1\n",
    "        index=0\n",
    "        \n",
    "    try:\n",
    "        city_name=response[\"name\"]\n",
    "        index+=1\n",
    "        \n",
    "        city_df.append({'City':response[\"name\"],\n",
    "             'Lat':response['coord']['lat'],\n",
    "             'Lng':response['coord']['lon'],\n",
    "             'Max Temp':response['main']['temp_max'],\n",
    "             'Humidity': response['main']['humidity'],\n",
    "             'Cloudiness':response['clouds']['all'],\n",
    "             'Wind Speed':response['wind']['speed'],\n",
    "              'Country':response['sys']['country'],\n",
    "              'Date':response['dt']})\n",
    "        \n",
    "        print(f'Processing Record {index} of Set {counter} | {city_name} ')\n",
    "        \n",
    "    except (KeyError, IndexError):\n",
    "        print(\"City not found. Skipping...\")\n",
    "    \n",
    "    \n",
    "print('-----------------------------')\n",
    "print('Data Retrieval Complete      ')\n",
    "print('-----------------------------')\n"
   ]
  },
  {
   "cell_type": "markdown",
   "metadata": {},
   "source": [
    "### Convert Raw Data to DataFrame\n",
    "* Export the city data into a .csv.\n",
    "* Display the DataFrame"
   ]
  },
  {
   "cell_type": "code",
   "execution_count": 12,
   "metadata": {},
   "outputs": [
    {
     "data": {
      "text/html": [
       "<div>\n",
       "<style scoped>\n",
       "    .dataframe tbody tr th:only-of-type {\n",
       "        vertical-align: middle;\n",
       "    }\n",
       "\n",
       "    .dataframe tbody tr th {\n",
       "        vertical-align: top;\n",
       "    }\n",
       "\n",
       "    .dataframe thead th {\n",
       "        text-align: right;\n",
       "    }\n",
       "</style>\n",
       "<table border=\"1\" class=\"dataframe\">\n",
       "  <thead>\n",
       "    <tr style=\"text-align: right;\">\n",
       "      <th></th>\n",
       "      <th>City</th>\n",
       "      <th>Lat</th>\n",
       "      <th>Lng</th>\n",
       "      <th>Max Temp</th>\n",
       "      <th>Humidity</th>\n",
       "      <th>Cloudiness</th>\n",
       "      <th>Wind Speed</th>\n",
       "      <th>Country</th>\n",
       "      <th>Date</th>\n",
       "    </tr>\n",
       "  </thead>\n",
       "  <tbody>\n",
       "    <tr>\n",
       "      <th>0</th>\n",
       "      <td>Punta Arenas</td>\n",
       "      <td>-53.1500</td>\n",
       "      <td>-70.9167</td>\n",
       "      <td>46.40</td>\n",
       "      <td>93</td>\n",
       "      <td>90</td>\n",
       "      <td>2.30</td>\n",
       "      <td>CL</td>\n",
       "      <td>1619455831</td>\n",
       "    </tr>\n",
       "    <tr>\n",
       "      <th>1</th>\n",
       "      <td>Buena Vista</td>\n",
       "      <td>43.4203</td>\n",
       "      <td>-83.8986</td>\n",
       "      <td>42.80</td>\n",
       "      <td>56</td>\n",
       "      <td>90</td>\n",
       "      <td>8.05</td>\n",
       "      <td>US</td>\n",
       "      <td>1619456079</td>\n",
       "    </tr>\n",
       "    <tr>\n",
       "      <th>2</th>\n",
       "      <td>Saskylakh</td>\n",
       "      <td>71.9167</td>\n",
       "      <td>114.0833</td>\n",
       "      <td>-7.19</td>\n",
       "      <td>100</td>\n",
       "      <td>85</td>\n",
       "      <td>4.92</td>\n",
       "      <td>RU</td>\n",
       "      <td>1619456080</td>\n",
       "    </tr>\n",
       "    <tr>\n",
       "      <th>3</th>\n",
       "      <td>San Patricio</td>\n",
       "      <td>28.0170</td>\n",
       "      <td>-97.5169</td>\n",
       "      <td>82.99</td>\n",
       "      <td>69</td>\n",
       "      <td>75</td>\n",
       "      <td>18.41</td>\n",
       "      <td>US</td>\n",
       "      <td>1619456080</td>\n",
       "    </tr>\n",
       "    <tr>\n",
       "      <th>4</th>\n",
       "      <td>Qaanaaq</td>\n",
       "      <td>77.4840</td>\n",
       "      <td>-69.3632</td>\n",
       "      <td>37.56</td>\n",
       "      <td>74</td>\n",
       "      <td>72</td>\n",
       "      <td>6.76</td>\n",
       "      <td>GL</td>\n",
       "      <td>1619456081</td>\n",
       "    </tr>\n",
       "  </tbody>\n",
       "</table>\n",
       "</div>"
      ],
      "text/plain": [
       "           City      Lat       Lng  Max Temp  Humidity  Cloudiness  \\\n",
       "0  Punta Arenas -53.1500  -70.9167     46.40        93          90   \n",
       "1   Buena Vista  43.4203  -83.8986     42.80        56          90   \n",
       "2     Saskylakh  71.9167  114.0833     -7.19       100          85   \n",
       "3  San Patricio  28.0170  -97.5169     82.99        69          75   \n",
       "4       Qaanaaq  77.4840  -69.3632     37.56        74          72   \n",
       "\n",
       "   Wind Speed Country        Date  \n",
       "0        2.30      CL  1619455831  \n",
       "1        8.05      US  1619456079  \n",
       "2        4.92      RU  1619456080  \n",
       "3       18.41      US  1619456080  \n",
       "4        6.76      GL  1619456081  "
      ]
     },
     "execution_count": 12,
     "metadata": {},
     "output_type": "execute_result"
    }
   ],
   "source": [
    "city_df=pd.DataFrame(city_df)\n",
    "\n",
    "city_df.to_csv('../Resources/City Data.csv')\n",
    "city_df.head()"
   ]
  },
  {
   "cell_type": "code",
   "execution_count": 13,
   "metadata": {},
   "outputs": [
    {
     "data": {
      "text/html": [
       "<div>\n",
       "<style scoped>\n",
       "    .dataframe tbody tr th:only-of-type {\n",
       "        vertical-align: middle;\n",
       "    }\n",
       "\n",
       "    .dataframe tbody tr th {\n",
       "        vertical-align: top;\n",
       "    }\n",
       "\n",
       "    .dataframe thead th {\n",
       "        text-align: right;\n",
       "    }\n",
       "</style>\n",
       "<table border=\"1\" class=\"dataframe\">\n",
       "  <thead>\n",
       "    <tr style=\"text-align: right;\">\n",
       "      <th></th>\n",
       "      <th>Lat</th>\n",
       "      <th>Lng</th>\n",
       "      <th>Max Temp</th>\n",
       "      <th>Humidity</th>\n",
       "      <th>Cloudiness</th>\n",
       "      <th>Wind Speed</th>\n",
       "      <th>Date</th>\n",
       "    </tr>\n",
       "  </thead>\n",
       "  <tbody>\n",
       "    <tr>\n",
       "      <th>count</th>\n",
       "      <td>579.00</td>\n",
       "      <td>579.00</td>\n",
       "      <td>579.00</td>\n",
       "      <td>579.00</td>\n",
       "      <td>579.00</td>\n",
       "      <td>579.00</td>\n",
       "      <td>5.790000e+02</td>\n",
       "    </tr>\n",
       "    <tr>\n",
       "      <th>mean</th>\n",
       "      <td>22.61</td>\n",
       "      <td>21.41</td>\n",
       "      <td>60.53</td>\n",
       "      <td>67.39</td>\n",
       "      <td>54.11</td>\n",
       "      <td>7.92</td>\n",
       "      <td>1.619456e+09</td>\n",
       "    </tr>\n",
       "    <tr>\n",
       "      <th>std</th>\n",
       "      <td>32.73</td>\n",
       "      <td>89.19</td>\n",
       "      <td>21.52</td>\n",
       "      <td>22.87</td>\n",
       "      <td>37.30</td>\n",
       "      <td>5.31</td>\n",
       "      <td>9.740000e+01</td>\n",
       "    </tr>\n",
       "    <tr>\n",
       "      <th>min</th>\n",
       "      <td>-54.80</td>\n",
       "      <td>-175.20</td>\n",
       "      <td>-7.19</td>\n",
       "      <td>5.00</td>\n",
       "      <td>0.00</td>\n",
       "      <td>0.47</td>\n",
       "      <td>1.619456e+09</td>\n",
       "    </tr>\n",
       "    <tr>\n",
       "      <th>25%</th>\n",
       "      <td>-3.68</td>\n",
       "      <td>-57.87</td>\n",
       "      <td>46.00</td>\n",
       "      <td>53.00</td>\n",
       "      <td>20.00</td>\n",
       "      <td>3.87</td>\n",
       "      <td>1.619456e+09</td>\n",
       "    </tr>\n",
       "    <tr>\n",
       "      <th>50%</th>\n",
       "      <td>29.03</td>\n",
       "      <td>25.84</td>\n",
       "      <td>63.43</td>\n",
       "      <td>71.00</td>\n",
       "      <td>59.00</td>\n",
       "      <td>6.91</td>\n",
       "      <td>1.619456e+09</td>\n",
       "    </tr>\n",
       "    <tr>\n",
       "      <th>75%</th>\n",
       "      <td>50.49</td>\n",
       "      <td>102.39</td>\n",
       "      <td>77.16</td>\n",
       "      <td>87.00</td>\n",
       "      <td>90.00</td>\n",
       "      <td>10.36</td>\n",
       "      <td>1.619456e+09</td>\n",
       "    </tr>\n",
       "    <tr>\n",
       "      <th>max</th>\n",
       "      <td>78.22</td>\n",
       "      <td>179.32</td>\n",
       "      <td>113.00</td>\n",
       "      <td>100.00</td>\n",
       "      <td>100.00</td>\n",
       "      <td>35.68</td>\n",
       "      <td>1.619457e+09</td>\n",
       "    </tr>\n",
       "  </tbody>\n",
       "</table>\n",
       "</div>"
      ],
      "text/plain": [
       "          Lat     Lng  Max Temp  Humidity  Cloudiness  Wind Speed  \\\n",
       "count  579.00  579.00    579.00    579.00      579.00      579.00   \n",
       "mean    22.61   21.41     60.53     67.39       54.11        7.92   \n",
       "std     32.73   89.19     21.52     22.87       37.30        5.31   \n",
       "min    -54.80 -175.20     -7.19      5.00        0.00        0.47   \n",
       "25%     -3.68  -57.87     46.00     53.00       20.00        3.87   \n",
       "50%     29.03   25.84     63.43     71.00       59.00        6.91   \n",
       "75%     50.49  102.39     77.16     87.00       90.00       10.36   \n",
       "max     78.22  179.32    113.00    100.00      100.00       35.68   \n",
       "\n",
       "               Date  \n",
       "count  5.790000e+02  \n",
       "mean   1.619456e+09  \n",
       "std    9.740000e+01  \n",
       "min    1.619456e+09  \n",
       "25%    1.619456e+09  \n",
       "50%    1.619456e+09  \n",
       "75%    1.619456e+09  \n",
       "max    1.619457e+09  "
      ]
     },
     "execution_count": 13,
     "metadata": {},
     "output_type": "execute_result"
    }
   ],
   "source": [
    "city_df.describe().round(2)"
   ]
  },
  {
   "cell_type": "markdown",
   "metadata": {},
   "source": [
    "## Inspect the data and remove the cities where the humidity > 100%.\n",
    "----\n",
    "Skip this step if there are no cities that have humidity > 100%. "
   ]
  },
  {
   "cell_type": "code",
   "execution_count": 14,
   "metadata": {},
   "outputs": [
    {
     "data": {
      "text/plain": [
       "Int64Index([], dtype='int64')"
      ]
     },
     "execution_count": 14,
     "metadata": {},
     "output_type": "execute_result"
    }
   ],
   "source": [
    "#  Get the indices of cities that have humidity over 100%.\n",
    "over_humidity = city_df[city_df['Humidity']>100].index\n",
    "over_humidity"
   ]
  },
  {
   "cell_type": "code",
   "execution_count": 15,
   "metadata": {},
   "outputs": [
    {
     "data": {
      "text/html": [
       "<div>\n",
       "<style scoped>\n",
       "    .dataframe tbody tr th:only-of-type {\n",
       "        vertical-align: middle;\n",
       "    }\n",
       "\n",
       "    .dataframe tbody tr th {\n",
       "        vertical-align: top;\n",
       "    }\n",
       "\n",
       "    .dataframe thead th {\n",
       "        text-align: right;\n",
       "    }\n",
       "</style>\n",
       "<table border=\"1\" class=\"dataframe\">\n",
       "  <thead>\n",
       "    <tr style=\"text-align: right;\">\n",
       "      <th></th>\n",
       "      <th>City</th>\n",
       "      <th>Lat</th>\n",
       "      <th>Lng</th>\n",
       "      <th>Max Temp</th>\n",
       "      <th>Humidity</th>\n",
       "      <th>Cloudiness</th>\n",
       "      <th>Wind Speed</th>\n",
       "      <th>Country</th>\n",
       "      <th>Date</th>\n",
       "    </tr>\n",
       "  </thead>\n",
       "  <tbody>\n",
       "    <tr>\n",
       "      <th>0</th>\n",
       "      <td>Punta Arenas</td>\n",
       "      <td>-53.15</td>\n",
       "      <td>-70.92</td>\n",
       "      <td>46.40</td>\n",
       "      <td>93</td>\n",
       "      <td>90</td>\n",
       "      <td>2.30</td>\n",
       "      <td>CL</td>\n",
       "      <td>1619455831</td>\n",
       "    </tr>\n",
       "    <tr>\n",
       "      <th>1</th>\n",
       "      <td>Buena Vista</td>\n",
       "      <td>43.42</td>\n",
       "      <td>-83.90</td>\n",
       "      <td>42.80</td>\n",
       "      <td>56</td>\n",
       "      <td>90</td>\n",
       "      <td>8.05</td>\n",
       "      <td>US</td>\n",
       "      <td>1619456079</td>\n",
       "    </tr>\n",
       "    <tr>\n",
       "      <th>2</th>\n",
       "      <td>Saskylakh</td>\n",
       "      <td>71.92</td>\n",
       "      <td>114.08</td>\n",
       "      <td>-7.19</td>\n",
       "      <td>100</td>\n",
       "      <td>85</td>\n",
       "      <td>4.92</td>\n",
       "      <td>RU</td>\n",
       "      <td>1619456080</td>\n",
       "    </tr>\n",
       "    <tr>\n",
       "      <th>3</th>\n",
       "      <td>San Patricio</td>\n",
       "      <td>28.02</td>\n",
       "      <td>-97.52</td>\n",
       "      <td>82.99</td>\n",
       "      <td>69</td>\n",
       "      <td>75</td>\n",
       "      <td>18.41</td>\n",
       "      <td>US</td>\n",
       "      <td>1619456080</td>\n",
       "    </tr>\n",
       "    <tr>\n",
       "      <th>4</th>\n",
       "      <td>Qaanaaq</td>\n",
       "      <td>77.48</td>\n",
       "      <td>-69.36</td>\n",
       "      <td>37.56</td>\n",
       "      <td>74</td>\n",
       "      <td>72</td>\n",
       "      <td>6.76</td>\n",
       "      <td>GL</td>\n",
       "      <td>1619456081</td>\n",
       "    </tr>\n",
       "  </tbody>\n",
       "</table>\n",
       "</div>"
      ],
      "text/plain": [
       "           City    Lat     Lng  Max Temp  Humidity  Cloudiness  Wind Speed  \\\n",
       "0  Punta Arenas -53.15  -70.92     46.40        93          90        2.30   \n",
       "1   Buena Vista  43.42  -83.90     42.80        56          90        8.05   \n",
       "2     Saskylakh  71.92  114.08     -7.19       100          85        4.92   \n",
       "3  San Patricio  28.02  -97.52     82.99        69          75       18.41   \n",
       "4       Qaanaaq  77.48  -69.36     37.56        74          72        6.76   \n",
       "\n",
       "  Country        Date  \n",
       "0      CL  1619455831  \n",
       "1      US  1619456079  \n",
       "2      RU  1619456080  \n",
       "3      US  1619456080  \n",
       "4      GL  1619456081  "
      ]
     },
     "execution_count": 15,
     "metadata": {},
     "output_type": "execute_result"
    }
   ],
   "source": [
    "# Make a new DataFrame equal to the city data to drop all humidity outliers by index.\n",
    "# Passing \"inplace=False\" will make a copy of the city_data DataFrame, which we call \"clean_city_data\".\n",
    "clean_city_data=city_df.drop(over_humidity , inplace=False)\n",
    "\n",
    "clean_city_data.head().round(2)"
   ]
  },
  {
   "cell_type": "code",
   "execution_count": 16,
   "metadata": {},
   "outputs": [],
   "source": [
    "clean_city_data[['Lat','Max Temp']] = np.int64(clean_city_data[['Lat','Max Temp']])\n",
    "# clean_city_data.dtypes"
   ]
  },
  {
   "cell_type": "markdown",
   "metadata": {},
   "source": [
    "## Plotting the Data\n",
    "* Use proper labeling of the plots using plot titles (including date of analysis) and axes labels.\n",
    "* Save the plotted figures as .pngs."
   ]
  },
  {
   "cell_type": "markdown",
   "metadata": {},
   "source": [
    "## Latitude vs. Temperature Plot"
   ]
  },
  {
   "cell_type": "code",
   "execution_count": 17,
   "metadata": {},
   "outputs": [
    {
     "data": {
      "image/png": "[encoded data removed]",
      "text/plain": [
       "<Figure size 432x288 with 1 Axes>"
      ]
     },
     "metadata": {
      "needs_background": "light"
     },
     "output_type": "display_data"
    }
   ],
   "source": [
    "clean_city_data.plot.scatter(x=\"Lat\", y=\"Max Temp\", s=40,color= '#4285F4' , edgecolors = \"black\")\n",
    "\n",
    "# Format and labels\n",
    "plt.title(\"City Latitude vs. Max Temperature (04/01/20)\")\n",
    "plt.xlabel(\"Latitude\")\n",
    "plt.ylabel(\"Max Temperature (F)\")\n",
    "plt.grid (b=True, which=\"major\",axis=\"both\",linestyle=\"-\")  \n",
    "plt.savefig(\"Graphs/LatVsTemp.png\")\n",
    "plt.show()"
   ]
  },
  {
   "cell_type": "markdown",
   "metadata": {},
   "source": [
    "## Latitude vs. Humidity Plot"
   ]
  },
  {
   "cell_type": "code",
   "execution_count": 18,
   "metadata": {},
   "outputs": [
    {
     "data": {
      "image/png": "[encoded data removed]",
      "text/plain": [
       "<Figure size 432x288 with 1 Axes>"
      ]
     },
     "metadata": {
      "needs_background": "light"
     },
     "output_type": "display_data"
    }
   ],
   "source": [
    "clean_city_data.plot.scatter(x=\"Lat\", y=\"Humidity\", s=40,color= '#4285F4' , edgecolors = \"black\")\n",
    "\n",
    "# Format and labels\n",
    "plt.title(\"City Latitude vs. Humidity (04/01/20)\")\n",
    "plt.xlabel(\"Latitude\")\n",
    "plt.ylabel(\"Humidity (%)\")\n",
    "plt.grid (b=True, which=\"major\",axis=\"both\",linestyle=\"-\")  \n",
    "plt.savefig(\"Graphs/LatVsHum.png\")\n",
    "plt.show()"
   ]
  },
  {
   "cell_type": "markdown",
   "metadata": {},
   "source": [
    "## Latitude vs. Cloudiness Plot"
   ]
  },
  {
   "cell_type": "code",
   "execution_count": 19,
   "metadata": {},
   "outputs": [
    {
     "data": {
      "image/png": "[encoded data removed]",
      "text/plain": [
       "<Figure size 432x288 with 1 Axes>"
      ]
     },
     "metadata": {
      "needs_background": "light"
     },
     "output_type": "display_data"
    }
   ],
   "source": [
    "clean_city_data.plot.scatter(x=\"Lat\", y=\"Cloudiness\", s=40,color= '#4285F4' , edgecolors = \"black\")\n",
    "\n",
    "# Format and labels\n",
    "plt.title(\"City Latitude vs. Cloudiness (04/01/20)\")\n",
    "plt.xlabel(\"Latitude\")\n",
    "plt.ylabel(\"Cloudiness (%)\")\n",
    "plt.grid (b=True, which=\"major\",axis=\"both\",linestyle=\"-\")  \n",
    "plt.savefig(\"Graphs/LatVsCloud.png\")\n",
    "plt.show()"
   ]
  },
  {
   "cell_type": "markdown",
   "metadata": {},
   "source": [
    "## Latitude vs. Wind Speed Plot"
   ]
  },
  {
   "cell_type": "code",
   "execution_count": 20,
   "metadata": {},
   "outputs": [
    {
     "data": {
      "image/png": "[encoded data removed]",
      "text/plain": [
       "<Figure size 432x288 with 1 Axes>"
      ]
     },
     "metadata": {
      "needs_background": "light"
     },
     "output_type": "display_data"
    }
   ],
   "source": [
    "clean_city_data.plot.scatter(x=\"Lat\", y=\"Wind Speed\", s=40,color= '#4285F4' , edgecolors = \"black\")\n",
    "\n",
    "# Format and labels\n",
    "plt.title(\"City Latitude vs. Wind Speed (04/01/20)\")\n",
    "plt.xlabel(\"Latitude\")\n",
    "plt.ylabel(\"Wind Speed (mph)\")\n",
    "plt.grid (b=True, which=\"major\",axis=\"both\",linestyle=\"-\")  \n",
    "plt.savefig(\"Graphs/LatVsWind.png\")\n",
    "plt.show()"
   ]
  },
  {
   "cell_type": "markdown",
   "metadata": {},
   "source": [
    "## Linear Regression"
   ]
  },
  {
   "cell_type": "code",
   "execution_count": 21,
   "metadata": {},
   "outputs": [],
   "source": [
    "northern_hemisphere = clean_city_data.loc[clean_city_data[\"Lat\"] > 0]\n",
    "southern_hemisphere = clean_city_data.loc[clean_city_data[\"Lat\"] < 0]"
   ]
  },
  {
   "cell_type": "markdown",
   "metadata": {},
   "source": [
    "####  Northern Hemisphere - Max Temp vs. Latitude Linear Regression"
   ]
  },
  {
   "cell_type": "code",
   "execution_count": 22,
   "metadata": {},
   "outputs": [
    {
     "name": "stdout",
     "output_type": "stream",
     "text": [
      "The correlation coefficient is -0.87\n",
      "The r-value is: 0.7516102714254506\n"
     ]
    },
    {
     "data": {
      "image/png": "[encoded data removed]",
      "text/plain": [
       "<Figure size 432x288 with 1 Axes>"
      ]
     },
     "metadata": {
      "needs_background": "light"
     },
     "output_type": "display_data"
    },
    {
     "data": {
      "text/plain": [
       "<Figure size 432x288 with 0 Axes>"
      ]
     },
     "metadata": {},
     "output_type": "display_data"
    }
   ],
   "source": [
    "# Linear regression model and correlation coefficient \n",
    "\n",
    "x_axis = northern_hemisphere[\"Lat\"]\n",
    "y_axis = northern_hemisphere[\"Max Temp\"]\n",
    "\n",
    "corr=round(st.pearsonr(x_axis,y_axis)[0],2)\n",
    "\n",
    "(slope, intercept, rvalue, pvalue, stderr) = st.linregress(x_axis, y_axis)\n",
    "regress_values = x_axis * slope + intercept\n",
    "\n",
    "print(f\"The correlation coefficient is {corr}\")\n",
    "print(f\"The r-value is: {rvalue**2}\")\n",
    "line_eq = \"y = \" + str(round(slope,2)) + \"x + \" + str(round(intercept,2))\n",
    "\n",
    "plt.scatter(x_axis,y_axis)\n",
    "plt.plot(x_axis,regress_values,\"r-\")\n",
    "plt.annotate(line_eq,(10,20),fontsize=15,color=\"red\")\n",
    "plt.xlabel(\"Latitude\")\n",
    "plt.ylabel(\"Max Temp\")\n",
    "plt.show()\n",
    "\n",
    "plt.savefig(\"Graphs/CorrelationNorth(LatVsTemp).png\")\n"
   ]
  },
  {
   "cell_type": "markdown",
   "metadata": {},
   "source": [
    "####  Southern Hemisphere - Max Temp vs. Latitude Linear Regression"
   ]
  },
  {
   "cell_type": "code",
   "execution_count": 23,
   "metadata": {},
   "outputs": [
    {
     "name": "stdout",
     "output_type": "stream",
     "text": [
      "The correlation coefficient is 0.77\n",
      "The r-value is: 0.5863155321593495\n"
     ]
    },
    {
     "data": {
      "image/png": "[encoded data removed]",
      "text/plain": [
       "<Figure size 432x288 with 1 Axes>"
      ]
     },
     "metadata": {
      "needs_background": "light"
     },
     "output_type": "display_data"
    },
    {
     "data": {
      "text/plain": [
       "<Figure size 432x288 with 0 Axes>"
      ]
     },
     "metadata": {},
     "output_type": "display_data"
    }
   ],
   "source": [
    "# Linear regression model and correlation coefficient \n",
    "\n",
    "x_axis = southern_hemisphere[\"Lat\"]\n",
    "y_axis = southern_hemisphere[\"Max Temp\"]\n",
    "\n",
    "corr=round(st.pearsonr(x_axis,y_axis)[0],2)\n",
    "\n",
    "(slope, intercept, rvalue, pvalue, stderr) = st.linregress(x_axis, y_axis)\n",
    "regress_values = x_axis * slope + intercept\n",
    "\n",
    "print(f\"The correlation coefficient is {corr}\")\n",
    "print(f\"The r-value is: {rvalue**2}\")\n",
    "line_eq = \"y = \" + str(round(slope,2)) + \"x + \" + str(round(intercept,2))\n",
    "\n",
    "plt.scatter(x_axis,y_axis)\n",
    "plt.plot(x_axis,regress_values,\"r-\")\n",
    "plt.annotate(line_eq,(-50,80),fontsize=15,color=\"red\")\n",
    "plt.xlabel(\"Latitude\")\n",
    "plt.ylabel(\"Max Temp\")\n",
    "plt.show()\n",
    "\n",
    "plt.savefig(\"Graphs/CorrelationSouth(LatVsTemp).png\")"
   ]
  },
  {
   "cell_type": "markdown",
   "metadata": {},
   "source": [
    "####  Northern Hemisphere - Humidity (%) vs. Latitude Linear Regression"
   ]
  },
  {
   "cell_type": "code",
   "execution_count": 24,
   "metadata": {},
   "outputs": [
    {
     "name": "stdout",
     "output_type": "stream",
     "text": [
      "The correlation coefficient is 0.28\n",
      "The r-value is: 0.08049089094002508\n"
     ]
    },
    {
     "data": {
      "image/png": "[encoded data removed]",
      "text/plain": [
       "<Figure size 432x288 with 1 Axes>"
      ]
     },
     "metadata": {
      "needs_background": "light"
     },
     "output_type": "display_data"
    },
    {
     "data": {
      "text/plain": [
       "<Figure size 432x288 with 0 Axes>"
      ]
     },
     "metadata": {},
     "output_type": "display_data"
    }
   ],
   "source": [
    "# Linear regression model and correlation coefficient \n",
    "\n",
    "x_axis = northern_hemisphere[\"Lat\"]\n",
    "y_axis = northern_hemisphere[\"Humidity\"]\n",
    "\n",
    "corr=round(st.pearsonr(x_axis,y_axis)[0],2)\n",
    "\n",
    "(slope, intercept, rvalue, pvalue, stderr) = st.linregress(x_axis, y_axis)\n",
    "regress_values = x_axis * slope + intercept\n",
    "\n",
    "print(f\"The correlation coefficient is {corr}\")\n",
    "print(f\"The r-value is: {rvalue**2}\")\n",
    "line_eq = \"y = \" + str(round(slope,2)) + \"x + \" + str(round(intercept,2))\n",
    "\n",
    "plt.scatter(x_axis,y_axis)\n",
    "plt.plot(x_axis,regress_values,\"r-\")\n",
    "plt.annotate(line_eq,(40,20),fontsize=15,color=\"red\")\n",
    "plt.xlabel(\"Latitude\")\n",
    "plt.ylabel(\"Humidity\")\n",
    "plt.show()\n",
    "\n",
    "plt.savefig(\"Graphs/CorrelationNorth(LatVsHumidity).png\")"
   ]
  },
  {
   "cell_type": "markdown",
   "metadata": {},
   "source": [
    "####  Southern Hemisphere - Humidity (%) vs. Latitude Linear Regression"
   ]
  },
  {
   "cell_type": "code",
   "execution_count": 25,
   "metadata": {},
   "outputs": [
    {
     "name": "stdout",
     "output_type": "stream",
     "text": [
      "The correlation coefficient is 0.02\n",
      "The r-value is: 0.00023014630210832656\n"
     ]
    },
    {
     "data": {
      "image/png": "[encoded data removed]",
      "text/plain": [
       "<Figure size 432x288 with 1 Axes>"
      ]
     },
     "metadata": {
      "needs_background": "light"
     },
     "output_type": "display_data"
    },
    {
     "data": {
      "text/plain": [
       "<Figure size 432x288 with 0 Axes>"
      ]
     },
     "metadata": {},
     "output_type": "display_data"
    }
   ],
   "source": [
    "# Linear regression model and correlation coefficient \n",
    "\n",
    "x_axis = southern_hemisphere[\"Lat\"]\n",
    "y_axis = southern_hemisphere[\"Humidity\"]\n",
    "\n",
    "corr=round(st.pearsonr(x_axis,y_axis)[0],2)\n",
    "\n",
    "(slope, intercept, rvalue, pvalue, stderr) = st.linregress(x_axis, y_axis)\n",
    "regress_values = x_axis * slope + intercept\n",
    "\n",
    "print(f\"The correlation coefficient is {corr}\")\n",
    "print(f\"The r-value is: {rvalue**2}\")\n",
    "line_eq = \"y = \" + str(round(slope,2)) + \"x + \" + str(round(intercept,2))\n",
    "\n",
    "plt.scatter(x_axis,y_axis)\n",
    "plt.plot(x_axis,regress_values,\"r-\")\n",
    "plt.annotate(line_eq,(-50,10),fontsize=15,color=\"red\")\n",
    "plt.xlabel(\"Latitude\")\n",
    "plt.ylabel(\"Humidity\")\n",
    "plt.show()\n",
    "\n",
    "plt.savefig(\"Graphs/CorrelationSouth(LatVsHumidity).png\")"
   ]
  },
  {
   "cell_type": "markdown",
   "metadata": {},
   "source": [
    "####  Northern Hemisphere - Cloudiness (%) vs. Latitude Linear Regression"
   ]
  },
  {
   "cell_type": "code",
   "execution_count": 26,
   "metadata": {},
   "outputs": [
    {
     "name": "stdout",
     "output_type": "stream",
     "text": [
      "The correlation coefficient is 0.21\n",
      "The r-value is: 0.04532222632341814\n"
     ]
    },
    {
     "data": {
      "image/png": "[encoded data removed]",
      "text/plain": [
       "<Figure size 432x288 with 1 Axes>"
      ]
     },
     "metadata": {
      "needs_background": "light"
     },
     "output_type": "display_data"
    },
    {
     "data": {
      "text/plain": [
       "<Figure size 432x288 with 0 Axes>"
      ]
     },
     "metadata": {},
     "output_type": "display_data"
    }
   ],
   "source": [
    "# Linear regression model and correlation coefficient \n",
    "\n",
    "x_axis = northern_hemisphere[\"Lat\"]\n",
    "y_axis = northern_hemisphere[\"Cloudiness\"]\n",
    "\n",
    "corr=round(st.pearsonr(x_axis,y_axis)[0],2)\n",
    "\n",
    "(slope, intercept, rvalue, pvalue, stderr) = st.linregress(x_axis, y_axis)\n",
    "regress_values = x_axis * slope + intercept\n",
    "\n",
    "print(f\"The correlation coefficient is {corr}\")\n",
    "print(f\"The r-value is: {rvalue**2}\")\n",
    "line_eq = \"y = \" + str(round(slope,2)) + \"x + \" + str(round(intercept,2))\n",
    "\n",
    "plt.scatter(x_axis,y_axis)\n",
    "plt.plot(x_axis,regress_values,\"r-\")\n",
    "plt.annotate(line_eq,(40,30),fontsize=15,color=\"red\")\n",
    "plt.xlabel(\"Latitude\")\n",
    "plt.ylabel(\"Cloudiness\")\n",
    "plt.show()\n",
    "\n",
    "plt.savefig(\"Graphs/CorrelationNorth(LatVsCloud).png\")"
   ]
  },
  {
   "cell_type": "markdown",
   "metadata": {},
   "source": [
    "####  Southern Hemisphere - Cloudiness (%) vs. Latitude Linear Regression"
   ]
  },
  {
   "cell_type": "code",
   "execution_count": 27,
   "metadata": {},
   "outputs": [
    {
     "name": "stdout",
     "output_type": "stream",
     "text": [
      "The correlation coefficient is 0.09\n",
      "The r-value is: 0.0074841221541478075\n"
     ]
    },
    {
     "data": {
      "image/png": "[encoded data removed]",
      "text/plain": [
       "<Figure size 432x288 with 1 Axes>"
      ]
     },
     "metadata": {
      "needs_background": "light"
     },
     "output_type": "display_data"
    },
    {
     "data": {
      "text/plain": [
       "<Figure size 432x288 with 0 Axes>"
      ]
     },
     "metadata": {},
     "output_type": "display_data"
    }
   ],
   "source": [
    "# Linear regression model and correlation coefficient \n",
    "\n",
    "x_axis = southern_hemisphere[\"Lat\"]\n",
    "y_axis = southern_hemisphere[\"Cloudiness\"]\n",
    "\n",
    "corr=round(st.pearsonr(x_axis,y_axis)[0],2)\n",
    "\n",
    "(slope, intercept, rvalue, pvalue, stderr) = st.linregress(x_axis, y_axis)\n",
    "regress_values = x_axis * slope + intercept\n",
    "\n",
    "print(f\"The correlation coefficient is {corr}\")\n",
    "print(f\"The r-value is: {rvalue**2}\")\n",
    "line_eq = \"y = \" + str(round(slope,2)) + \"x + \" + str(round(intercept,2))\n",
    "\n",
    "plt.scatter(x_axis,y_axis)\n",
    "plt.plot(x_axis,regress_values,\"r-\")\n",
    "plt.annotate(line_eq,(-50,30),fontsize=15,color=\"red\")\n",
    "plt.xlabel(\"Latitude\")\n",
    "plt.ylabel(\"Cloudiness\")\n",
    "plt.show()\n",
    "\n",
    "plt.savefig(\"Graphs/CorrelationSouth(LatVsCloud).png\")"
   ]
  },
  {
   "cell_type": "markdown",
   "metadata": {},
   "source": [
    "####  Northern Hemisphere - Wind Speed (mph) vs. Latitude Linear Regression"
   ]
  },
  {
   "cell_type": "code",
   "execution_count": 28,
   "metadata": {},
   "outputs": [
    {
     "name": "stdout",
     "output_type": "stream",
     "text": [
      "The correlation coefficient is 0.04\n",
      "The r-value is: 0.0014323303588098405\n"
     ]
    },
    {
     "data": {
      "image/png": "[encoded data removed]",
      "text/plain": [
       "<Figure size 432x288 with 1 Axes>"
      ]
     },
     "metadata": {
      "needs_background": "light"
     },
     "output_type": "display_data"
    },
    {
     "data": {
      "text/plain": [
       "<Figure size 432x288 with 0 Axes>"
      ]
     },
     "metadata": {},
     "output_type": "display_data"
    }
   ],
   "source": [
    "# Linear regression model and correlation coefficient \n",
    "\n",
    "x_axis = northern_hemisphere[\"Lat\"]\n",
    "y_axis = northern_hemisphere[\"Wind Speed\"]\n",
    "\n",
    "corr=round(st.pearsonr(x_axis,y_axis)[0],2)\n",
    "\n",
    "(slope, intercept, rvalue, pvalue, stderr) = st.linregress(x_axis, y_axis)\n",
    "regress_values = x_axis * slope + intercept\n",
    "\n",
    "print(f\"The correlation coefficient is {corr}\")\n",
    "print(f\"The r-value is: {rvalue**2}\")\n",
    "line_eq = \"y = \" + str(round(slope,2)) + \"x + \" + str(round(intercept,2))\n",
    "\n",
    "plt.scatter(x_axis,y_axis)\n",
    "plt.plot(x_axis,regress_values,\"r-\")\n",
    "plt.annotate(line_eq,(40,15),fontsize=15,color=\"red\")\n",
    "plt.xlabel(\"Latitude\")\n",
    "plt.ylabel(\"Wind Speed\")\n",
    "plt.show()\n",
    "\n",
    "plt.savefig(\"Graphs/CorrelationNorth(LatVsWind).png\")"
   ]
  },
  {
   "cell_type": "markdown",
   "metadata": {},
   "source": [
    "####  Southern Hemisphere - Wind Speed (mph) vs. Latitude Linear Regression"
   ]
  },
  {
   "cell_type": "code",
   "execution_count": 29,
   "metadata": {},
   "outputs": [
    {
     "name": "stdout",
     "output_type": "stream",
     "text": [
      "The correlation coefficient is -0.09\n",
      "The r-value is: 0.00894365531123204\n"
     ]
    },
    {
     "data": {
      "image/png": "[encoded data removed]",
      "text/plain": [
       "<Figure size 432x288 with 1 Axes>"
      ]
     },
     "metadata": {
      "needs_background": "light"
     },
     "output_type": "display_data"
    },
    {
     "data": {
      "text/plain": [
       "<Figure size 432x288 with 0 Axes>"
      ]
     },
     "metadata": {},
     "output_type": "display_data"
    }
   ],
   "source": [
    "# Linear regression model and correlation coefficient \n",
    "\n",
    "x_axis = southern_hemisphere[\"Lat\"]\n",
    "y_axis = southern_hemisphere[\"Wind Speed\"]\n",
    "\n",
    "corr=round(st.pearsonr(x_axis,y_axis)[0],2)\n",
    "\n",
    "(slope, intercept, rvalue, pvalue, stderr) = st.linregress(x_axis, y_axis)\n",
    "regress_values = x_axis * slope + intercept\n",
    "\n",
    "print(f\"The correlation coefficient is {corr}\")\n",
    "print(f\"The r-value is: {rvalue**2}\")\n",
    "line_eq = \"y = \" + str(round(slope,2)) + \"x + \" + str(round(intercept,2))\n",
    "\n",
    "plt.scatter(x_axis,y_axis)\n",
    "plt.plot(x_axis,regress_values,\"r-\")\n",
    "plt.annotate(line_eq,(-50,6),fontsize=15,color=\"red\")\n",
    "plt.xlabel(\"Latitude\")\n",
    "plt.ylabel(\"Wind Speed\")\n",
    "plt.show()\n",
    "\n",
    "plt.savefig(\"Graphs/CorrelationNorth(LatVsWind).png\")"
   ]
  },
  {
   "cell_type": "code",
   "execution_count": 30,
   "metadata": {},
   "outputs": [],
   "source": [
    "clean_city_data.to_csv('../Resources/Clean City Data.csv')"
   ]
  },
  {
   "cell_type": "code",
   "execution_count": 31,
   "metadata": {},
   "outputs": [
    {
     "data": {
      "text/html": [
       "<div>\n",
       "<style scoped>\n",
       "    .dataframe tbody tr th:only-of-type {\n",
       "        vertical-align: middle;\n",
       "    }\n",
       "\n",
       "    .dataframe tbody tr th {\n",
       "        vertical-align: top;\n",
       "    }\n",
       "\n",
       "    .dataframe thead th {\n",
       "        text-align: right;\n",
       "    }\n",
       "</style>\n",
       "<table border=\"1\" class=\"dataframe\">\n",
       "  <thead>\n",
       "    <tr style=\"text-align: right;\">\n",
       "      <th></th>\n",
       "      <th>City</th>\n",
       "      <th>Lat</th>\n",
       "      <th>Lng</th>\n",
       "      <th>Max Temp</th>\n",
       "      <th>Humidity</th>\n",
       "      <th>Cloudiness</th>\n",
       "      <th>Wind Speed</th>\n",
       "      <th>Country</th>\n",
       "      <th>Date</th>\n",
       "    </tr>\n",
       "  </thead>\n",
       "  <tbody>\n",
       "    <tr>\n",
       "      <th>0</th>\n",
       "      <td>Punta Arenas</td>\n",
       "      <td>-53</td>\n",
       "      <td>-70.9167</td>\n",
       "      <td>46</td>\n",
       "      <td>93</td>\n",
       "      <td>90</td>\n",
       "      <td>2.30</td>\n",
       "      <td>CL</td>\n",
       "      <td>1619455831</td>\n",
       "    </tr>\n",
       "    <tr>\n",
       "      <th>1</th>\n",
       "      <td>Buena Vista</td>\n",
       "      <td>43</td>\n",
       "      <td>-83.8986</td>\n",
       "      <td>42</td>\n",
       "      <td>56</td>\n",
       "      <td>90</td>\n",
       "      <td>8.05</td>\n",
       "      <td>US</td>\n",
       "      <td>1619456079</td>\n",
       "    </tr>\n",
       "    <tr>\n",
       "      <th>2</th>\n",
       "      <td>Saskylakh</td>\n",
       "      <td>71</td>\n",
       "      <td>114.0833</td>\n",
       "      <td>-7</td>\n",
       "      <td>100</td>\n",
       "      <td>85</td>\n",
       "      <td>4.92</td>\n",
       "      <td>RU</td>\n",
       "      <td>1619456080</td>\n",
       "    </tr>\n",
       "    <tr>\n",
       "      <th>3</th>\n",
       "      <td>San Patricio</td>\n",
       "      <td>28</td>\n",
       "      <td>-97.5169</td>\n",
       "      <td>82</td>\n",
       "      <td>69</td>\n",
       "      <td>75</td>\n",
       "      <td>18.41</td>\n",
       "      <td>US</td>\n",
       "      <td>1619456080</td>\n",
       "    </tr>\n",
       "    <tr>\n",
       "      <th>4</th>\n",
       "      <td>Qaanaaq</td>\n",
       "      <td>77</td>\n",
       "      <td>-69.3632</td>\n",
       "      <td>37</td>\n",
       "      <td>74</td>\n",
       "      <td>72</td>\n",
       "      <td>6.76</td>\n",
       "      <td>GL</td>\n",
       "      <td>1619456081</td>\n",
       "    </tr>\n",
       "    <tr>\n",
       "      <th>...</th>\n",
       "      <td>...</td>\n",
       "      <td>...</td>\n",
       "      <td>...</td>\n",
       "      <td>...</td>\n",
       "      <td>...</td>\n",
       "      <td>...</td>\n",
       "      <td>...</td>\n",
       "      <td>...</td>\n",
       "      <td>...</td>\n",
       "    </tr>\n",
       "    <tr>\n",
       "      <th>574</th>\n",
       "      <td>Taksimo</td>\n",
       "      <td>56</td>\n",
       "      <td>114.8794</td>\n",
       "      <td>28</td>\n",
       "      <td>81</td>\n",
       "      <td>100</td>\n",
       "      <td>5.08</td>\n",
       "      <td>RU</td>\n",
       "      <td>1619456316</td>\n",
       "    </tr>\n",
       "    <tr>\n",
       "      <th>575</th>\n",
       "      <td>College Place</td>\n",
       "      <td>46</td>\n",
       "      <td>-118.3883</td>\n",
       "      <td>55</td>\n",
       "      <td>62</td>\n",
       "      <td>1</td>\n",
       "      <td>13.80</td>\n",
       "      <td>US</td>\n",
       "      <td>1619456316</td>\n",
       "    </tr>\n",
       "    <tr>\n",
       "      <th>576</th>\n",
       "      <td>Mapiripán</td>\n",
       "      <td>2</td>\n",
       "      <td>-72.1256</td>\n",
       "      <td>87</td>\n",
       "      <td>61</td>\n",
       "      <td>90</td>\n",
       "      <td>3.38</td>\n",
       "      <td>CO</td>\n",
       "      <td>1619456317</td>\n",
       "    </tr>\n",
       "    <tr>\n",
       "      <th>577</th>\n",
       "      <td>Siavonga</td>\n",
       "      <td>-16</td>\n",
       "      <td>28.7088</td>\n",
       "      <td>76</td>\n",
       "      <td>63</td>\n",
       "      <td>0</td>\n",
       "      <td>2.93</td>\n",
       "      <td>ZM</td>\n",
       "      <td>1619456317</td>\n",
       "    </tr>\n",
       "    <tr>\n",
       "      <th>578</th>\n",
       "      <td>Beidao</td>\n",
       "      <td>34</td>\n",
       "      <td>105.8933</td>\n",
       "      <td>51</td>\n",
       "      <td>60</td>\n",
       "      <td>100</td>\n",
       "      <td>3.51</td>\n",
       "      <td>CN</td>\n",
       "      <td>1619456317</td>\n",
       "    </tr>\n",
       "  </tbody>\n",
       "</table>\n",
       "<p>579 rows × 9 columns</p>\n",
       "</div>"
      ],
      "text/plain": [
       "              City  Lat       Lng  Max Temp  Humidity  Cloudiness  Wind Speed  \\\n",
       "0     Punta Arenas  -53  -70.9167        46        93          90        2.30   \n",
       "1      Buena Vista   43  -83.8986        42        56          90        8.05   \n",
       "2        Saskylakh   71  114.0833        -7       100          85        4.92   \n",
       "3     San Patricio   28  -97.5169        82        69          75       18.41   \n",
       "4          Qaanaaq   77  -69.3632        37        74          72        6.76   \n",
       "..             ...  ...       ...       ...       ...         ...         ...   \n",
       "574        Taksimo   56  114.8794        28        81         100        5.08   \n",
       "575  College Place   46 -118.3883        55        62           1       13.80   \n",
       "576      Mapiripán    2  -72.1256        87        61          90        3.38   \n",
       "577       Siavonga  -16   28.7088        76        63           0        2.93   \n",
       "578         Beidao   34  105.8933        51        60         100        3.51   \n",
       "\n",
       "    Country        Date  \n",
       "0        CL  1619455831  \n",
       "1        US  1619456079  \n",
       "2        RU  1619456080  \n",
       "3        US  1619456080  \n",
       "4        GL  1619456081  \n",
       "..      ...         ...  \n",
       "574      RU  1619456316  \n",
       "575      US  1619456316  \n",
       "576      CO  1619456317  \n",
       "577      ZM  1619456317  \n",
       "578      CN  1619456317  \n",
       "\n",
       "[579 rows x 9 columns]"
      ]
     },
     "execution_count": 31,
     "metadata": {},
     "output_type": "execute_result"
    }
   ],
   "source": [
    "clean_city_data"
   ]
  },
  {
   "cell_type": "code",
   "execution_count": null,
   "metadata": {},
   "outputs": [],
   "source": []
  }
 ],
 "metadata": {
  "anaconda-cloud": {},
  "kernel_info": {
   "name": "python3"
  },
  "kernelspec": {
   "display_name": "Python 3",
   "language": "python",
   "name": "python3"
  },
  "language_info": {
   "codemirror_mode": {
    "name": "ipython",
    "version": 3
   },
   "file_extension": ".py",
   "mimetype": "text/x-python",
   "name": "python",
   "nbconvert_exporter": "python",
   "pygments_lexer": "ipython3",
   "version": "3.8.5"
  },
  "latex_envs": {
   "LaTeX_envs_menu_present": true,
   "autoclose": false,
   "autocomplete": true,
   "bibliofile": "biblio.bib",
   "cite_by": "apalike",
   "current_citInitial": 1,
   "eqLabelWithNumbers": true,
   "eqNumInitial": 1,
   "hotkeys": {
    "equation": "Ctrl-E",
    "itemize": "Ctrl-I"
   },
   "labels_anchors": false,
   "latex_user_defs": false,
   "report_style_numbering": false,
   "user_envs_cfg": false
  },
  "nteract": {
   "version": "0.12.3"
  }
 },
 "nbformat": 4,
 "nbformat_minor": 2
}
